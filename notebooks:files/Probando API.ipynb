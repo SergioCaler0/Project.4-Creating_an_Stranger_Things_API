{
 "cells": [
  {
   "cell_type": "markdown",
   "metadata": {},
   "source": [
    "<img src=\"https://media.giphy.com/media/l41Y9SKrl3kLVamfC/giphy.gif\">"
   ]
  },
  {
   "cell_type": "markdown",
   "metadata": {},
   "source": [
    "#### Creo una API con personajes y frases de Stranger Things para analizar los sentimientos de los personajes y hacerles recomendaciones"
   ]
  },
  {
   "cell_type": "code",
   "execution_count": 28,
   "metadata": {},
   "outputs": [],
   "source": [
    "import requests"
   ]
  },
  {
   "cell_type": "markdown",
   "metadata": {},
   "source": [
    "### Insertar personajes en la base de datos"
   ]
  },
  {
   "cell_type": "markdown",
   "metadata": {},
   "source": [
    "Se pueden insertar users en la db con una lista de diccionarios, o con un diccionario. "
   ]
  },
  {
   "cell_type": "code",
   "execution_count": 5,
   "metadata": {},
   "outputs": [],
   "source": [
    "personajes = [{\"name\":\"Mike Wheeler\"},\n",
    "              {\"name\":\"Once\"},\n",
    "              {\"name\":\"Billy Hargrove\"},\n",
    "              {\"name\":\"Dustin Henderson\"},\n",
    "              {\"name\":\"Steve Harrington\"},\n",
    "              {\"name\":\"Will\"},\n",
    "              {\"name\":\"Suzie\"},\n",
    "              {\"name\":\"Jonathan\"},\n",
    "              {\"name\":\"Joyce Byers\"},\n",
    "              {\"name\":\"Erica Sinclair\"},\n",
    "              {\"name\":\"Karen Wheeler\"},\n",
    "              {\"name\":\"Max\"},\n",
    "              {\"name\":\"Bob Newby\"},\n",
    "              {\"name\":\"Nancy Wheeler\"},\n",
    "              {\"name\":\"Jim Hopper\"},\n",
    "              {\"name\":\"Dr. Owens\"},\n",
    "              {\"name\":\"Kali\"},\n",
    "              {\"name\":\"Murray Bauman\"},\n",
    "              {\"name\":\"Lucas\"}\n",
    "]"
   ]
  },
  {
   "cell_type": "markdown",
   "metadata": {},
   "source": [
    "Para insertar usuarios en la base de datos hay que hacer una request de la siguiente manera. El sistema checkea si existen ya y les asigna un user_id correlativo. "
   ]
  },
  {
   "cell_type": "code",
   "execution_count": 6,
   "metadata": {},
   "outputs": [],
   "source": [
    "url_user = \"http://localhost:5000/new/user\"\n",
    "for x in personajes:\n",
    "    requests.post(url_user, data=x)"
   ]
  },
  {
   "cell_type": "markdown",
   "metadata": {},
   "source": [
    "### Insertar chats/grupos en la base de datos"
   ]
  },
  {
   "cell_type": "markdown",
   "metadata": {},
   "source": [
    "Para insertar chats en la base de datos, hay que hacerlo en forma de diccionario. Tiene que tener un nombre de diccionario y los participantes que están dentro. El sistema controlará que los participantes existan y que el nombre del chat no exista anteriormente."
   ]
  },
  {
   "cell_type": "code",
   "execution_count": 19,
   "metadata": {},
   "outputs": [],
   "source": [
    "friends = { \"chat_name\": \"friends\",\n",
    "           \"participants\": [\"Mike Wheeler\",\"Dustin Henderson\",\"Will\",\"Lucas\"]\n",
    "}\n",
    "\n",
    "hawkings = {\"chat_name\":\"hawkins\",\n",
    "            \"participants\":['Mike Wheeler','Once','Billy Hargrove','Dustin Henderson','Steve Harrington','Will','Suzie','Jonathan','Joyce Byers','Erica Sinclair','Karen Wheeler','Max','Bob Newby','Nancy Wheeler','Jim Hopper','Dr. Owens','Kali','Murray Bauman','Lucas']   \n",
    "}\n",
    "\n",
    "friendsnew = {\"chat_name\" : \"friends_new\",\n",
    "             \"participants\": [\"Mike Wheeler\",\"Once\",\"Lucas\",\"Dustin Henderson\",\"Steve Harrington\",\"Nancy Wheeler\",\"Will\",\"Suzie\",\"Max\"]\n",
    "}\n",
    "hopper_once = {\"chat_name\":\"hopper_once\", \n",
    "               \"participants\":[\"Once\",\"Jim Hopper\"]}\n",
    "family_byers = {\"chat_name\": \"family_byers\",\n",
    "               \"participants\": [\"Will\",\"Joyce Byers\",\"Jonathan\",\"Bob Newby\"]}"
   ]
  },
  {
   "cell_type": "code",
   "execution_count": 26,
   "metadata": {},
   "outputs": [],
   "source": [
    "url_chat = \"http://localhost:5000/new/friendsnew\""
   ]
  },
  {
   "cell_type": "code",
   "execution_count": 27,
   "metadata": {},
   "outputs": [
    {
     "data": {
      "text/plain": [
       "<Response [404]>"
      ]
     },
     "execution_count": 27,
     "metadata": {},
     "output_type": "execute_result"
    }
   ],
   "source": [
    "requests.post(url_chat, data=friends)"
   ]
  },
  {
   "cell_type": "markdown",
   "metadata": {},
   "source": [
    "### Insertar mensajes en la base de datos"
   ]
  },
  {
   "cell_type": "markdown",
   "metadata": {},
   "source": [
    "Para insertar mensajes en la base de datos, el formato tiene que ser el siguiente. El sitema controlará que tanto el usuario como el chat existan. Además controlará que ese user esté dentro de ese chat y que ese mensaje no se haya dicho antes."
   ]
  },
  {
   "cell_type": "code",
   "execution_count": 12,
   "metadata": {},
   "outputs": [],
   "source": [
    "mensaje = {'name': 'Once', 'chat_name': 'friends_new', 'message': 'Los amigos no mienten'}"
   ]
  },
  {
   "cell_type": "code",
   "execution_count": 13,
   "metadata": {},
   "outputs": [
    {
     "data": {
      "text/plain": [
       "<Response [500]>"
      ]
     },
     "execution_count": 13,
     "metadata": {},
     "output_type": "execute_result"
    }
   ],
   "source": [
    "url_mensaje = \"http://localhost:5000/new/message\"\n",
    "requests.post(url_mensaje, data=mensaje)"
   ]
  },
  {
   "cell_type": "code",
   "execution_count": 14,
   "metadata": {},
   "outputs": [],
   "source": [
    "mensaje2 = {'name': 'Murray Bauman', 'chat_name': 'hawkins', 'message': 'Bueno, cuando acabéis de resolver vuestros problemas me avisáis para trabajar'}"
   ]
  },
  {
   "cell_type": "code",
   "execution_count": 15,
   "metadata": {},
   "outputs": [
    {
     "data": {
      "text/plain": [
       "<Response [500]>"
      ]
     },
     "execution_count": 15,
     "metadata": {},
     "output_type": "execute_result"
    }
   ],
   "source": [
    "url_mensaje = \"http://localhost:5000/new/message\"\n",
    "requests.post(url_mensaje, data=mensaje2)"
   ]
  },
  {
   "cell_type": "markdown",
   "metadata": {},
   "source": [
    "### Obtener info a través de la API\n",
    "### Usuarios\n",
    "¿Qué usuarios hay registrados? - Con esta requet vemos todos los users de la base de datos"
   ]
  },
  {
   "cell_type": "code",
   "execution_count": 16,
   "metadata": {},
   "outputs": [],
   "source": [
    "url_users = \"http://localhost:5000/users\""
   ]
  },
  {
   "cell_type": "code",
   "execution_count": 17,
   "metadata": {},
   "outputs": [
    {
     "name": "stdout",
     "output_type": "stream",
     "text": [
      "[{'name': ['Mike Wheeler']}, {'name': ['Once']}, {'name': ['Billy Hargrove']}]\n",
      "19\n"
     ]
    }
   ],
   "source": [
    "users = requests.get(url_users).json()\n",
    "print(users[0:3])\n",
    "print(len(users))"
   ]
  },
  {
   "cell_type": "markdown",
   "metadata": {},
   "source": [
    "¿En qué grupos está un user? - Con esta request vemos los grupos en los que está el user que queramos."
   ]
  },
  {
   "cell_type": "code",
   "execution_count": 18,
   "metadata": {},
   "outputs": [],
   "source": [
    "url_chats = \"http://localhost:5000/user/chat/\"\n",
    "name = \"Mike Wheeler\""
   ]
  },
  {
   "cell_type": "code",
   "execution_count": 5,
   "metadata": {},
   "outputs": [
    {
     "name": "stdout",
     "output_type": "stream",
     "text": [
      "[{'chat_name': 'friends'}, {'chat_name': 'hawkins'}, {'chat_name': 'friends_new'}]\n"
     ]
    }
   ],
   "source": [
    "mike = requests.get(url_chats + name).json()\n",
    "print(mike)"
   ]
  },
  {
   "cell_type": "markdown",
   "metadata": {},
   "source": [
    "### Grupos\n",
    "¿Qué grupos de usuarios hay creados?"
   ]
  },
  {
   "cell_type": "code",
   "execution_count": 6,
   "metadata": {},
   "outputs": [],
   "source": [
    "url_todos_chats = \"http://localhost:5000/chats\""
   ]
  },
  {
   "cell_type": "code",
   "execution_count": 7,
   "metadata": {},
   "outputs": [
    {
     "name": "stdout",
     "output_type": "stream",
     "text": [
      "[{'chat_name': 'friends'}, {'chat_name': 'hawkins'}, {'chat_name': 'friends_new'}, {'chat_name': 'hopper_once'}, {'chat_name': 'family_byers'}]\n"
     ]
    }
   ],
   "source": [
    "chats = requests.get(url_todos_chats).json()\n",
    "print(chats)"
   ]
  },
  {
   "cell_type": "markdown",
   "metadata": {},
   "source": [
    "¿Qué usuarios hay en un grupo?"
   ]
  },
  {
   "cell_type": "code",
   "execution_count": 29,
   "metadata": {},
   "outputs": [],
   "source": [
    "users_chat = \"http://localhost:5000/chat/\"\n",
    "chat = \"friends\""
   ]
  },
  {
   "cell_type": "code",
   "execution_count": 30,
   "metadata": {},
   "outputs": [
    {
     "data": {
      "text/plain": [
       "[{'chat_name': 'friends',\n",
       "  'participants': ['Mike Wheeler', 'Dustin Henderson', 'Will', 'Lucas']}]"
      ]
     },
     "execution_count": 30,
     "metadata": {},
     "output_type": "execute_result"
    }
   ],
   "source": [
    "chat = requests.get(users_chat + chat).json()\n",
    "chat"
   ]
  },
  {
   "cell_type": "markdown",
   "metadata": {},
   "source": [
    "### Mensajes\n",
    "¿Qué mensajes ha escrito un user? - Con esta request vemos los mensajes que ha escrito el user que solicitemos y en qué grupo los ha escrito. "
   ]
  },
  {
   "cell_type": "code",
   "execution_count": 10,
   "metadata": {},
   "outputs": [],
   "source": [
    "url_mensajes = \"http://localhost:5000/user/message/\"\n",
    "name2 = \"Once\""
   ]
  },
  {
   "cell_type": "code",
   "execution_count": 11,
   "metadata": {},
   "outputs": [
    {
     "data": {
      "text/plain": [
       "{'name': 'Once',\n",
       " 'chat_name': 'friends_new',\n",
       " 'message': 'Los amigos no mienten'}"
      ]
     },
     "execution_count": 11,
     "metadata": {},
     "output_type": "execute_result"
    }
   ],
   "source": [
    "mensajes_once = requests.get(url_mensajes + name2).json()\n",
    "mensajes_once[0]"
   ]
  },
  {
   "cell_type": "markdown",
   "metadata": {},
   "source": [
    "¿Qué mensajes se han escrito en un chat?"
   ]
  },
  {
   "cell_type": "code",
   "execution_count": 12,
   "metadata": {},
   "outputs": [],
   "source": [
    "url_mensajes_chat = \"http://localhost:5000/chat/message/\"\n",
    "grupo = \"hawkins\""
   ]
  },
  {
   "cell_type": "code",
   "execution_count": 13,
   "metadata": {},
   "outputs": [
    {
     "data": {
      "text/plain": [
       "[{'name': 'Bob Newby',\n",
       "  'chat_name': 'hawkins',\n",
       "  'message': 'Siempre pensé que este tipo de cosas ocurrían en las películas y las historietas.'},\n",
       " {'name': 'Joyce Byers',\n",
       "  'chat_name': 'hawkins',\n",
       "  'message': 'No me interesa si alguien me cree'}]"
      ]
     },
     "execution_count": 13,
     "metadata": {},
     "output_type": "execute_result"
    }
   ],
   "source": [
    "mensajes_hawkins= requests.get(url_mensajes_chat + grupo).json()\n",
    "mensajes_hawkins[0:2]"
   ]
  },
  {
   "cell_type": "markdown",
   "metadata": {},
   "source": [
    "### Analizando los sentimientos de diferentes mensajes"
   ]
  },
  {
   "cell_type": "markdown",
   "metadata": {},
   "source": [
    "##### Chat\n",
    "Podemos analizar los sentimientos de un chat utilizando la siguiente ruta."
   ]
  },
  {
   "cell_type": "code",
   "execution_count": 14,
   "metadata": {},
   "outputs": [],
   "source": [
    "url_sentchat = \"http://localhost:5000/chat/sentiments/\"\n",
    "grupo2 =  \"hawkins\""
   ]
  },
  {
   "cell_type": "code",
   "execution_count": 15,
   "metadata": {},
   "outputs": [
    {
     "data": {
      "text/plain": [
       "{'polaridad': \"0.018847815157655583['👍']\",\n",
       " 'subjetividad': '0.3183070254213871'}"
      ]
     },
     "execution_count": 15,
     "metadata": {},
     "output_type": "execute_result"
    }
   ],
   "source": [
    "sentimientos_hawkins= requests.get(url_sentchat + grupo2).json()\n",
    "sentimientos_hawkins"
   ]
  },
  {
   "cell_type": "markdown",
   "metadata": {},
   "source": [
    "##### Analizando Chat por Personajes\n",
    "Puedes analizar la polaridad general del chat y ver cómo afecta la polaridad de cada personaje en la polaridad general del chat."
   ]
  },
  {
   "cell_type": "code",
   "execution_count": 8,
   "metadata": {},
   "outputs": [],
   "source": [
    "url_sent_chat_pers = \"http://localhost:5000/chat/sentiments/users/\"\n",
    "gruporuser = \"friends\""
   ]
  },
  {
   "cell_type": "code",
   "execution_count": 12,
   "metadata": {},
   "outputs": [
    {
     "data": {
      "text/plain": [
       "[{'polaridad': \"-0.013526272577996708['👎']\",\n",
       "  'subjetividad': '0.3044950738916256'},\n",
       " [{'Mike Wheeler': {'polaridad': \"0.05['👍']\", 'subjetividad': '0.2125'}},\n",
       "  {'Dustin Henderson': {'polaridad': \"0.011813186813186828['👍']\",\n",
       "    'subjetividad': '0.36227106227106226'}},\n",
       "  {'Will': {'polaridad': \"-0.23645833333333333['👎']\",\n",
       "    'subjetividad': '0.48020833333333335'}},\n",
       "  {'Lucas': {'polaridad': \"0.0['👍']\", 'subjetividad': '0.125'}}]]"
      ]
     },
     "execution_count": 12,
     "metadata": {},
     "output_type": "execute_result"
    }
   ],
   "source": [
    "chatporuser = requests.get(url_sent_chat_pers + gruporuser).json()\n",
    "chatporuser"
   ]
  },
  {
   "cell_type": "markdown",
   "metadata": {},
   "source": [
    "##### User - Un mensaje Random\n",
    "Podemos analizar los sentimientos de un mensaje random de cualquier usuario"
   ]
  },
  {
   "cell_type": "code",
   "execution_count": 30,
   "metadata": {},
   "outputs": [],
   "source": [
    "url_sentmensaje = \"http://localhost:5000/user/random/sentiments/\"\n",
    "lucas =  \"Lucas\""
   ]
  },
  {
   "cell_type": "code",
   "execution_count": 31,
   "metadata": {},
   "outputs": [
    {
     "data": {
      "text/plain": [
       "{'Frase': 'No eres lo suficientemente ágil, pero un día lo serás. Pero hasta entonces… la Princesa Daphne aún es mía!',\n",
       " 'polaridad': \"-0.125['👎']\",\n",
       " 'subjetividad': '0.625'}"
      ]
     },
     "execution_count": 31,
     "metadata": {},
     "output_type": "execute_result"
    }
   ],
   "source": [
    "sentimientos_mensaje= requests.get(url_sentmensaje + lucas).json()\n",
    "sentimientos_mensaje"
   ]
  },
  {
   "cell_type": "markdown",
   "metadata": {},
   "source": [
    "##### User\n",
    "También podemos analizar los sentimientos de un user por los mensajes que ha enviado."
   ]
  },
  {
   "cell_type": "code",
   "execution_count": 32,
   "metadata": {},
   "outputs": [],
   "source": [
    "url_sentuser = \"http://localhost:5000/user/sentiments/\"\n",
    "dustin =\"Dustin Henderson\""
   ]
  },
  {
   "cell_type": "code",
   "execution_count": 33,
   "metadata": {},
   "outputs": [
    {
     "data": {
      "text/plain": [
       "{'polaridad': \"-0.0274035973084886['👎']\",\n",
       " 'subjetividad': '0.43438146997929605'}"
      ]
     },
     "execution_count": 33,
     "metadata": {},
     "output_type": "execute_result"
    }
   ],
   "source": [
    "sentimientos_dustin= requests.get(url_sentuser + dustin).json()\n",
    "sentimientos_dustin"
   ]
  },
  {
   "cell_type": "markdown",
   "metadata": {},
   "source": [
    "Vemos que Dustin no es una persona tan positiva como parece, por las frases que dice....¿qué le pasará?"
   ]
  },
  {
   "cell_type": "markdown",
   "metadata": {},
   "source": [
    "<img src=\"https://media.giphy.com/media/l3JDIP5O3Nz08HvJS/giphy.gif\">"
   ]
  },
  {
   "cell_type": "markdown",
   "metadata": {},
   "source": [
    "### NLP Sistema de recomendaciones\n",
    "Vamos a recomendar usuarios por lo parecido de sus conversaciones en los chats."
   ]
  },
  {
   "cell_type": "code",
   "execution_count": 2,
   "metadata": {},
   "outputs": [],
   "source": [
    "url_recomendacion = \"http://localhost:5000/recommend/\"\n",
    "name = \"Jonathan\""
   ]
  },
  {
   "cell_type": "code",
   "execution_count": 3,
   "metadata": {},
   "outputs": [
    {
     "data": {
      "text/plain": [
       "{'Jonathan': 'Creo que conectas bastante bien con  Mike Wheeler'}"
      ]
     },
     "execution_count": 3,
     "metadata": {},
     "output_type": "execute_result"
    }
   ],
   "source": [
    "recomendamos = requests.get(url_recomendacion + name).json()\n",
    "recomendamos"
   ]
  }
 ],
 "metadata": {
  "kernelspec": {
   "display_name": "Python 3",
   "language": "python",
   "name": "python3"
  },
  "language_info": {
   "codemirror_mode": {
    "name": "ipython",
    "version": 3
   },
   "file_extension": ".py",
   "mimetype": "text/x-python",
   "name": "python",
   "nbconvert_exporter": "python",
   "pygments_lexer": "ipython3",
   "version": "3.7.7"
  }
 },
 "nbformat": 4,
 "nbformat_minor": 4
}
