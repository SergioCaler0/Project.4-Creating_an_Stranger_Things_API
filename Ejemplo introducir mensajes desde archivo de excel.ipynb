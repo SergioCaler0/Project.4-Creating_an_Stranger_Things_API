{
 "cells": [
  {
   "cell_type": "code",
   "execution_count": 5,
   "metadata": {},
   "outputs": [],
   "source": [
    "import requests\n",
    "import pandas as pd"
   ]
  },
  {
   "cell_type": "code",
   "execution_count": 20,
   "metadata": {},
   "outputs": [
    {
     "data": {
      "text/html": [
       "<div>\n",
       "<style scoped>\n",
       "    .dataframe tbody tr th:only-of-type {\n",
       "        vertical-align: middle;\n",
       "    }\n",
       "\n",
       "    .dataframe tbody tr th {\n",
       "        vertical-align: top;\n",
       "    }\n",
       "\n",
       "    .dataframe thead th {\n",
       "        text-align: right;\n",
       "    }\n",
       "</style>\n",
       "<table border=\"1\" class=\"dataframe\">\n",
       "  <thead>\n",
       "    <tr style=\"text-align: right;\">\n",
       "      <th></th>\n",
       "      <th>name</th>\n",
       "      <th>chat_name</th>\n",
       "      <th>message</th>\n",
       "    </tr>\n",
       "  </thead>\n",
       "  <tbody>\n",
       "    <tr>\n",
       "      <th>0</th>\n",
       "      <td>Mike Wheeler</td>\n",
       "      <td>friends</td>\n",
       "      <td>No se lo voy a decir a mis padres</td>\n",
       "    </tr>\n",
       "    <tr>\n",
       "      <th>1</th>\n",
       "      <td>Mike Wheeler</td>\n",
       "      <td>friends</td>\n",
       "      <td>Tardamos dos semanas en pelear la batalla. ¿Co...</td>\n",
       "    </tr>\n",
       "    <tr>\n",
       "      <th>2</th>\n",
       "      <td>Mike Wheeler</td>\n",
       "      <td>friends</td>\n",
       "      <td>Eso es porque está saliendo con el imbécil ese</td>\n",
       "    </tr>\n",
       "    <tr>\n",
       "      <th>3</th>\n",
       "      <td>Once</td>\n",
       "      <td>friends_new</td>\n",
       "      <td>Estoy buscando a mi hermana, la he visto, aquí.</td>\n",
       "    </tr>\n",
       "    <tr>\n",
       "      <th>4</th>\n",
       "      <td>Once</td>\n",
       "      <td>friends_new</td>\n",
       "      <td>Te vi a ti en la habitación arco iris.</td>\n",
       "    </tr>\n",
       "  </tbody>\n",
       "</table>\n",
       "</div>"
      ],
      "text/plain": [
       "           name    chat_name  \\\n",
       "0  Mike Wheeler      friends   \n",
       "1  Mike Wheeler      friends   \n",
       "2  Mike Wheeler      friends   \n",
       "3          Once  friends_new   \n",
       "4          Once  friends_new   \n",
       "\n",
       "                                             message  \n",
       "0                  No se lo voy a decir a mis padres  \n",
       "1  Tardamos dos semanas en pelear la batalla. ¿Co...  \n",
       "2     Eso es porque está saliendo con el imbécil ese  \n",
       "3    Estoy buscando a mi hermana, la he visto, aquí.  \n",
       "4            Te vi a ti en la habitación arco iris.   "
      ]
     },
     "execution_count": 20,
     "metadata": {},
     "output_type": "execute_result"
    }
   ],
   "source": [
    "df = pd.read_excel ('input/frases2.xlsx')\n",
    "df.head()"
   ]
  },
  {
   "cell_type": "code",
   "execution_count": 15,
   "metadata": {},
   "outputs": [],
   "source": [
    "mensajes = []\n",
    "for a in range(35):\n",
    "    mensajes.append(dict(df.loc[a]))"
   ]
  },
  {
   "cell_type": "code",
   "execution_count": 17,
   "metadata": {},
   "outputs": [],
   "source": [
    "url_mensaje = \"http://localhost:5000/new/message\""
   ]
  },
  {
   "cell_type": "code",
   "execution_count": 18,
   "metadata": {},
   "outputs": [],
   "source": [
    "for m in mensajes:\n",
    "    requests.post(url_mensaje, data=m)"
   ]
  }
 ],
 "metadata": {
  "kernelspec": {
   "display_name": "Python 3",
   "language": "python",
   "name": "python3"
  },
  "language_info": {
   "codemirror_mode": {
    "name": "ipython",
    "version": 3
   },
   "file_extension": ".py",
   "mimetype": "text/x-python",
   "name": "python",
   "nbconvert_exporter": "python",
   "pygments_lexer": "ipython3",
   "version": "3.8.1"
  }
 },
 "nbformat": 4,
 "nbformat_minor": 4
}
