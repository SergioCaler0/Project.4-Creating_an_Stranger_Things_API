{
 "cells": [
  {
   "cell_type": "code",
   "execution_count": 1,
   "metadata": {},
   "outputs": [],
   "source": [
    "import requests"
   ]
  },
  {
   "cell_type": "markdown",
   "metadata": {},
   "source": [
    "### Insertar personajes en la base de datos"
   ]
  },
  {
   "cell_type": "markdown",
   "metadata": {},
   "source": [
    "Se pueden insertar users en la db con una lista de diccionarios, o con un diccionario. "
   ]
  },
  {
   "cell_type": "code",
   "execution_count": 49,
   "metadata": {},
   "outputs": [],
   "source": [
    "#borrar los números que los pongo para trabajar\n",
    "\n",
    "personajes = [{\"name\":\"Mike Wheeler\"},\n",
    "              {\"name\":\"Once\"},\n",
    "              {\"name\":\"Billy Hargrove\"},\n",
    "              {\"name\":\"Dustin Henderson\"},\n",
    "              {\"name\":\"Steve Harrington\"},\n",
    "              {\"name\":\"Will\"},\n",
    "              {\"name\":\"Suzie\"},\n",
    "              {\"name\":\"Jonathan\"},\n",
    "              {\"name\":\"Joyce Byers\"},\n",
    "              {\"name\":\"Erica Sinclair\"},\n",
    "              {\"name\":\"Karen Wheeler\"},\n",
    "              {\"name\":\"Max\"},\n",
    "              {\"name\":\"Bob Newby\"},\n",
    "              {\"name\":\"Nancy Wheeler\"},\n",
    "              {\"name\":\"Jim Hopper\"},\n",
    "              {\"name\":\"Dr. Owens\"},\n",
    "              {\"name\":\"Kali\"},\n",
    "              {\"name\":\"Murray Bauman\"},\n",
    "              {\"name\":\"Lucas\"}\n",
    "]"
   ]
  },
  {
   "cell_type": "markdown",
   "metadata": {},
   "source": [
    "Para insertar usuarios en la base de datos hay que hacer una request de la siguiente manera. El sistema checkea si existen ya y les asigna un user_id correlativo. "
   ]
  },
  {
   "cell_type": "code",
   "execution_count": 44,
   "metadata": {},
   "outputs": [],
   "source": [
    "url_user = \"http://localhost:5000/new/user\"\n",
    "for x in personajes:\n",
    "    requests.post(url_user, data=x)"
   ]
  },
  {
   "cell_type": "markdown",
   "metadata": {},
   "source": [
    "### Insertar chats/grupos en la base de datos"
   ]
  },
  {
   "cell_type": "markdown",
   "metadata": {},
   "source": [
    "Para insertar chats en la base de datos, hay que hacerlo en forma de diccionario. Tiene que tener un nombre de diccionario y los participantes que están dentro. El sistema controlará que los participantes existan y que el nombre del chat no exista anteriormente.\n",
    "Abajo "
   ]
  },
  {
   "cell_type": "code",
   "execution_count": 9,
   "metadata": {},
   "outputs": [],
   "source": [
    "friends = { \"chat_name\": \"friends\",\n",
    "           \"participants\": [\"Mike Wheeler\",\"Dustin Henderson\",\"Will\",\"Lucas\"]\n",
    "}\n",
    "\n",
    "hawkings = {\"chat_name\":\"hawkins\",\n",
    "            \"participants\":['Mike Wheeler','Once','Billy Hargrove','Dustin Henderson','Steve Harrington','Will','Suzie','Jonathan','Joyce Byers','Erica Sinclair','Karen Wheeler','Max','Bob Newby','Nancy Wheeler','Jim Hopper','Dr. Owens','Kali','Murray Bauman','Lucas']   \n",
    "}\n",
    "\n",
    "friendsnew = {\"chat_name\" : \"friends_new\",\n",
    "             \"participants\": [\"Mike Wheeler\",\"Once\",\"Lucas\",\"Dustin Henderson\",\"Steve Harrington\",\"Nancy Wheeler\",\"Will\",\"Suzie\",\"Max\"]\n",
    "}\n",
    "hopper_once = {\"chat_name\":\"hopper_once\", \n",
    "               \"participants\":[\"Once\",\"Jim Hopper\"]}"
   ]
  },
  {
   "cell_type": "code",
   "execution_count": 3,
   "metadata": {},
   "outputs": [],
   "source": [
    "url_chat = \"http://localhost:5000/new/chat\""
   ]
  },
  {
   "cell_type": "code",
   "execution_count": 11,
   "metadata": {},
   "outputs": [
    {
     "data": {
      "text/plain": [
       "<Response [200]>"
      ]
     },
     "execution_count": 11,
     "metadata": {},
     "output_type": "execute_result"
    }
   ],
   "source": [
    "#requests.post(url_chat, data=hopper_once)"
   ]
  },
  {
   "cell_type": "markdown",
   "metadata": {},
   "source": [
    "### Insertar mensajes en la base de datos"
   ]
  },
  {
   "cell_type": "markdown",
   "metadata": {},
   "source": [
    "Para insertar mensajes en la base de datos, el formato tiene que ser el siguiente. El sitema controlará que tanto el usuario como el chat existan. Además controlará que ese user esté dentro de ese chat y que ese mensaje no se haya dicho antes."
   ]
  },
  {
   "cell_type": "code",
   "execution_count": 44,
   "metadata": {},
   "outputs": [],
   "source": [
    "mensaje = {'name': 'Once', 'chat_name': 'friends_new', 'message': 'Los amigos no mienten'}"
   ]
  },
  {
   "cell_type": "code",
   "execution_count": 45,
   "metadata": {},
   "outputs": [
    {
     "data": {
      "text/plain": [
       "<Response [500]>"
      ]
     },
     "execution_count": 45,
     "metadata": {},
     "output_type": "execute_result"
    }
   ],
   "source": [
    "url_mensaje = \"http://localhost:5000/new/message\"\n",
    "requests.post(url_mensaje, data=mensaje)"
   ]
  },
  {
   "cell_type": "markdown",
   "metadata": {},
   "source": [
    "### Obtener info a través de la API\n",
    "#### Usuarios\n",
    "¿Qué usuarios hay registrados? - Con esta requet vemos todos los users de la base de datos"
   ]
  },
  {
   "cell_type": "code",
   "execution_count": 58,
   "metadata": {},
   "outputs": [],
   "source": [
    "url_users = \"http://localhost:5000/users\""
   ]
  },
  {
   "cell_type": "code",
   "execution_count": 60,
   "metadata": {},
   "outputs": [
    {
     "name": "stdout",
     "output_type": "stream",
     "text": [
      "[{'name': 'Mike Wheeler'}, {'name': 'Once'}, {'name': 'Billy Hargrove'}]\n",
      "19\n"
     ]
    }
   ],
   "source": [
    "users = requests.get(url_users).json()\n",
    "print(users[0:3])\n",
    "print(len(users))"
   ]
  },
  {
   "cell_type": "markdown",
   "metadata": {},
   "source": [
    "¿En qué grupos está un user? - Con esta request vemos los grupos en los que está el user que queramos."
   ]
  },
  {
   "cell_type": "code",
   "execution_count": 56,
   "metadata": {},
   "outputs": [],
   "source": [
    "url_chats = \"http://localhost:5000/user/chat/\"\n",
    "name = \"Mike Wheeler\""
   ]
  },
  {
   "cell_type": "code",
   "execution_count": 63,
   "metadata": {},
   "outputs": [
    {
     "name": "stdout",
     "output_type": "stream",
     "text": [
      "[{'chat_name': 'friends'}, {'chat_name': 'hawkins'}, {'chat_name': 'friends_new'}]\n"
     ]
    }
   ],
   "source": [
    "mike = requests.get(url_chats + name).json()\n",
    "print(mike)"
   ]
  },
  {
   "cell_type": "markdown",
   "metadata": {},
   "source": [
    "¿Qué mensajes ha escrito un user? - Con esta request vemos los mensajes que ha escrito el user que solicitemos y en qué grupo los ha escrito. "
   ]
  },
  {
   "cell_type": "code",
   "execution_count": 64,
   "metadata": {},
   "outputs": [],
   "source": [
    "url_mensajes = \"http://localhost:5000/user/message/\"\n",
    "name2 = \"Once\""
   ]
  },
  {
   "cell_type": "code",
   "execution_count": 68,
   "metadata": {},
   "outputs": [
    {
     "data": {
      "text/plain": [
       "{'name': 'Once',\n",
       " 'chat_name': 'friends_new',\n",
       " 'message': 'Los amigos no mienten'}"
      ]
     },
     "execution_count": 68,
     "metadata": {},
     "output_type": "execute_result"
    }
   ],
   "source": [
    "mensajes_once = requests.get(url_mensajes + name2).json()\n",
    "mensajes_once[0]"
   ]
  },
  {
   "cell_type": "markdown",
   "metadata": {},
   "source": [
    "#### Mensajes\n",
    "¿Qué mensajes se han escrito en un chat?"
   ]
  },
  {
   "cell_type": "code",
   "execution_count": 71,
   "metadata": {},
   "outputs": [],
   "source": [
    "url_mensajes_chat = \"http://localhost:5000/chat/message/\"\n",
    "grupo = \"hawkins\""
   ]
  },
  {
   "cell_type": "code",
   "execution_count": 75,
   "metadata": {},
   "outputs": [
    {
     "data": {
      "text/plain": [
       "[{'name': 'Bob Newby',\n",
       "  'chat_name': 'hawkins',\n",
       "  'message': 'Siempre pensé que este tipo de cosas ocurrían en las películas y las historietas.'},\n",
       " {'name': 'Joyce Byers',\n",
       "  'chat_name': 'hawkins',\n",
       "  'message': 'No me interesa si alguien me cree'},\n",
       " {'name': 'Nancy Wheeler',\n",
       "  'chat_name': 'hawkins',\n",
       "  'message': 'No creo que mis padres alguna vez se hayan amado. Mi madre era joven. Mi padre era más maduro, pero tenia un trabajo fácil, dinero y venía de buena familia. Así que se compraron una linda casa y comenzaron su familia. Al carajo con eso'},\n",
       " {'name': 'Dustin Henderson',\n",
       "  'chat_name': 'hawkins',\n",
       "  'message': '¡Sí, así es! ¡Mejor corre! ¡Ella es nuestra amiga y está loca! ¡Regresen y ella los matará! ¿Me escuchan? ¡Ella los va a matar, hijos de puta! '},\n",
       " {'name': 'Dustin Henderson',\n",
       "  'chat_name': 'hawkins',\n",
       "  'message': 'Tan solo espera que le digamos a Will que Jennifer Hayes estaba llorando en su funeral'}]"
      ]
     },
     "execution_count": 75,
     "metadata": {},
     "output_type": "execute_result"
    }
   ],
   "source": [
    "mensajes_hawkins= requests.get(url_mensajes_chat + grupo).json()\n",
    "mensajes_hawkins[0:5]"
   ]
  },
  {
   "cell_type": "code",
   "execution_count": null,
   "metadata": {},
   "outputs": [],
   "source": []
  },
  {
   "cell_type": "code",
   "execution_count": null,
   "metadata": {},
   "outputs": [],
   "source": []
  },
  {
   "cell_type": "code",
   "execution_count": null,
   "metadata": {},
   "outputs": [],
   "source": []
  }
 ],
 "metadata": {
  "kernelspec": {
   "display_name": "Python 3",
   "language": "python",
   "name": "python3"
  },
  "language_info": {
   "codemirror_mode": {
    "name": "ipython",
    "version": 3
   },
   "file_extension": ".py",
   "mimetype": "text/x-python",
   "name": "python",
   "nbconvert_exporter": "python",
   "pygments_lexer": "ipython3",
   "version": "3.8.1"
  }
 },
 "nbformat": 4,
 "nbformat_minor": 4
}
