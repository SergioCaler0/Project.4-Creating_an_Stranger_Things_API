{
 "cells": [
  {
   "cell_type": "markdown",
   "metadata": {},
   "source": [
    "<img src=\"https://media.giphy.com/media/l41Y9SKrl3kLVamfC/giphy.gif\">"
   ]
  },
  {
   "cell_type": "markdown",
   "metadata": {},
   "source": [
    "#### Creo una API con personajes y frases de Stranger Things para analizar los sentimientos de los personajes y hacerles recomendaciones"
   ]
  },
  {
   "cell_type": "code",
   "execution_count": 1,
   "metadata": {},
   "outputs": [],
   "source": [
    "import requests"
   ]
  },
  {
   "cell_type": "markdown",
   "metadata": {},
   "source": [
    "### Insertar personajes en la base de datos"
   ]
  },
  {
   "cell_type": "markdown",
   "metadata": {},
   "source": [
    "Se pueden insertar users en la db con una lista de diccionarios, o con un diccionario. "
   ]
  },
  {
   "cell_type": "code",
   "execution_count": 49,
   "metadata": {},
   "outputs": [],
   "source": [
    "#borrar los números que los pongo para trabajar\n",
    "\n",
    "personajes = [{\"name\":\"Mike Wheeler\"},\n",
    "              {\"name\":\"Once\"},\n",
    "              {\"name\":\"Billy Hargrove\"},\n",
    "              {\"name\":\"Dustin Henderson\"},\n",
    "              {\"name\":\"Steve Harrington\"},\n",
    "              {\"name\":\"Will\"},\n",
    "              {\"name\":\"Suzie\"},\n",
    "              {\"name\":\"Jonathan\"},\n",
    "              {\"name\":\"Joyce Byers\"},\n",
    "              {\"name\":\"Erica Sinclair\"},\n",
    "              {\"name\":\"Karen Wheeler\"},\n",
    "              {\"name\":\"Max\"},\n",
    "              {\"name\":\"Bob Newby\"},\n",
    "              {\"name\":\"Nancy Wheeler\"},\n",
    "              {\"name\":\"Jim Hopper\"},\n",
    "              {\"name\":\"Dr. Owens\"},\n",
    "              {\"name\":\"Kali\"},\n",
    "              {\"name\":\"Murray Bauman\"},\n",
    "              {\"name\":\"Lucas\"}\n",
    "]"
   ]
  },
  {
   "cell_type": "markdown",
   "metadata": {},
   "source": [
    "Para insertar usuarios en la base de datos hay que hacer una request de la siguiente manera. El sistema checkea si existen ya y les asigna un user_id correlativo. "
   ]
  },
  {
   "cell_type": "code",
   "execution_count": 44,
   "metadata": {},
   "outputs": [],
   "source": [
    "url_user = \"http://localhost:5000/new/user\"\n",
    "for x in personajes:\n",
    "    requests.post(url_user, data=x)"
   ]
  },
  {
   "cell_type": "markdown",
   "metadata": {},
   "source": [
    "### Insertar chats/grupos en la base de datos"
   ]
  },
  {
   "cell_type": "markdown",
   "metadata": {},
   "source": [
    "Para insertar chats en la base de datos, hay que hacerlo en forma de diccionario. Tiene que tener un nombre de diccionario y los participantes que están dentro. El sistema controlará que los participantes existan y que el nombre del chat no exista anteriormente.\n",
    "Abajo "
   ]
  },
  {
   "cell_type": "code",
   "execution_count": 9,
   "metadata": {},
   "outputs": [],
   "source": [
    "friends = { \"chat_name\": \"friends\",\n",
    "           \"participants\": [\"Mike Wheeler\",\"Dustin Henderson\",\"Will\",\"Lucas\"]\n",
    "}\n",
    "\n",
    "hawkings = {\"chat_name\":\"hawkins\",\n",
    "            \"participants\":['Mike Wheeler','Once','Billy Hargrove','Dustin Henderson','Steve Harrington','Will','Suzie','Jonathan','Joyce Byers','Erica Sinclair','Karen Wheeler','Max','Bob Newby','Nancy Wheeler','Jim Hopper','Dr. Owens','Kali','Murray Bauman','Lucas']   \n",
    "}\n",
    "\n",
    "friendsnew = {\"chat_name\" : \"friends_new\",\n",
    "             \"participants\": [\"Mike Wheeler\",\"Once\",\"Lucas\",\"Dustin Henderson\",\"Steve Harrington\",\"Nancy Wheeler\",\"Will\",\"Suzie\",\"Max\"]\n",
    "}\n",
    "hopper_once = {\"chat_name\":\"hopper_once\", \n",
    "               \"participants\":[\"Once\",\"Jim Hopper\"]}"
   ]
  },
  {
   "cell_type": "code",
   "execution_count": 3,
   "metadata": {},
   "outputs": [],
   "source": [
    "url_chat = \"http://localhost:5000/new/chat\""
   ]
  },
  {
   "cell_type": "code",
   "execution_count": 11,
   "metadata": {},
   "outputs": [
    {
     "data": {
      "text/plain": [
       "<Response [200]>"
      ]
     },
     "execution_count": 11,
     "metadata": {},
     "output_type": "execute_result"
    }
   ],
   "source": [
    "#requests.post(url_chat, data=hopper_once)"
   ]
  },
  {
   "cell_type": "markdown",
   "metadata": {},
   "source": [
    "### Insertar mensajes en la base de datos"
   ]
  },
  {
   "cell_type": "markdown",
   "metadata": {},
   "source": [
    "Para insertar mensajes en la base de datos, el formato tiene que ser el siguiente. El sitema controlará que tanto el usuario como el chat existan. Además controlará que ese user esté dentro de ese chat y que ese mensaje no se haya dicho antes."
   ]
  },
  {
   "cell_type": "code",
   "execution_count": 44,
   "metadata": {},
   "outputs": [],
   "source": [
    "mensaje = {'name': 'Once', 'chat_name': 'friends_new', 'message': 'Los amigos no mienten'}"
   ]
  },
  {
   "cell_type": "code",
   "execution_count": 45,
   "metadata": {},
   "outputs": [
    {
     "data": {
      "text/plain": [
       "<Response [500]>"
      ]
     },
     "execution_count": 45,
     "metadata": {},
     "output_type": "execute_result"
    }
   ],
   "source": [
    "url_mensaje = \"http://localhost:5000/new/message\"\n",
    "requests.post(url_mensaje, data=mensaje)"
   ]
  },
  {
   "cell_type": "code",
   "execution_count": 291,
   "metadata": {},
   "outputs": [],
   "source": [
    "mensaje2 = {'name': 'Murray Bauman', 'chat_name': 'hawkins', 'message': 'Bueno, cuando acabéis de resolver vuestros problemas me avisáis para trabajar'}"
   ]
  },
  {
   "cell_type": "code",
   "execution_count": 292,
   "metadata": {},
   "outputs": [
    {
     "data": {
      "text/plain": [
       "<Response [200]>"
      ]
     },
     "execution_count": 292,
     "metadata": {},
     "output_type": "execute_result"
    }
   ],
   "source": [
    "url_mensaje = \"http://localhost:5000/new/message\"\n",
    "requests.post(url_mensaje, data=mensaje2)"
   ]
  },
  {
   "cell_type": "markdown",
   "metadata": {},
   "source": [
    "### Obtener info a través de la API\n",
    "#### Usuarios\n",
    "¿Qué usuarios hay registrados? - Con esta requet vemos todos los users de la base de datos"
   ]
  },
  {
   "cell_type": "code",
   "execution_count": 58,
   "metadata": {},
   "outputs": [],
   "source": [
    "url_users = \"http://localhost:5000/users\""
   ]
  },
  {
   "cell_type": "code",
   "execution_count": 60,
   "metadata": {},
   "outputs": [
    {
     "name": "stdout",
     "output_type": "stream",
     "text": [
      "[{'name': 'Mike Wheeler'}, {'name': 'Once'}, {'name': 'Billy Hargrove'}]\n",
      "19\n"
     ]
    }
   ],
   "source": [
    "users = requests.get(url_users).json()\n",
    "print(users[0:3])\n",
    "print(len(users))"
   ]
  },
  {
   "cell_type": "markdown",
   "metadata": {},
   "source": [
    "¿En qué grupos está un user? - Con esta request vemos los grupos en los que está el user que queramos."
   ]
  },
  {
   "cell_type": "code",
   "execution_count": 56,
   "metadata": {},
   "outputs": [],
   "source": [
    "url_chats = \"http://localhost:5000/user/chat/\"\n",
    "name = \"Mike Wheeler\""
   ]
  },
  {
   "cell_type": "code",
   "execution_count": 63,
   "metadata": {},
   "outputs": [
    {
     "name": "stdout",
     "output_type": "stream",
     "text": [
      "[{'chat_name': 'friends'}, {'chat_name': 'hawkins'}, {'chat_name': 'friends_new'}]\n"
     ]
    }
   ],
   "source": [
    "mike = requests.get(url_chats + name).json()\n",
    "print(mike)"
   ]
  },
  {
   "cell_type": "markdown",
   "metadata": {},
   "source": [
    "¿Qué mensajes ha escrito un user? - Con esta request vemos los mensajes que ha escrito el user que solicitemos y en qué grupo los ha escrito. "
   ]
  },
  {
   "cell_type": "code",
   "execution_count": 181,
   "metadata": {},
   "outputs": [],
   "source": [
    "url_mensajes = \"http://localhost:5000/user/message/\"\n",
    "name2 = \"Once\""
   ]
  },
  {
   "cell_type": "code",
   "execution_count": 228,
   "metadata": {},
   "outputs": [
    {
     "data": {
      "text/plain": [
       "{'name': 'Jim Hopper',\n",
       " 'chat_name': 'hopper_once',\n",
       " 'message': 'No quiero que te lastimes en lo absoluto. Y no quiero perderte. Simplemente asegúrate de calentar algo de comida real. No solamente waffles.'}"
      ]
     },
     "execution_count": 228,
     "metadata": {},
     "output_type": "execute_result"
    }
   ],
   "source": [
    "mensajes_once = requests.get(url_mensajes + name2).json()\n",
    "mensajes_once[0]"
   ]
  },
  {
   "cell_type": "markdown",
   "metadata": {},
   "source": [
    "#### Mensajes\n",
    "¿Qué mensajes se han escrito en un chat?"
   ]
  },
  {
   "cell_type": "code",
   "execution_count": 71,
   "metadata": {},
   "outputs": [],
   "source": [
    "url_mensajes_chat = \"http://localhost:5000/chat/message/\"\n",
    "grupo = \"hawkins\""
   ]
  },
  {
   "cell_type": "code",
   "execution_count": 151,
   "metadata": {},
   "outputs": [
    {
     "data": {
      "text/plain": [
       "[{'name': 'Bob Newby',\n",
       "  'chat_name': 'hawkins',\n",
       "  'message': 'Siempre pensé que este tipo de cosas ocurrían en las películas y las historietas.'},\n",
       " {'name': 'Joyce Byers',\n",
       "  'chat_name': 'hawkins',\n",
       "  'message': 'No me interesa si alguien me cree'}]"
      ]
     },
     "execution_count": 151,
     "metadata": {},
     "output_type": "execute_result"
    }
   ],
   "source": [
    "mensajes_hawkins= requests.get(url_mensajes_chat + grupo).json()\n",
    "mensajes_hawkins[0:2]"
   ]
  },
  {
   "cell_type": "markdown",
   "metadata": {},
   "source": [
    "### Analizando los sentimientos de diferentes mensajes"
   ]
  },
  {
   "cell_type": "markdown",
   "metadata": {},
   "source": [
    "##### Chat\n",
    "Podemos analizar los sentimientos de un chat utilizando la siguiente ruta."
   ]
  },
  {
   "cell_type": "code",
   "execution_count": 152,
   "metadata": {},
   "outputs": [],
   "source": [
    "url_sentchat = \"http://localhost:5000/chat/sentiments/\"\n",
    "grupo2 =  \"hawkins\""
   ]
  },
  {
   "cell_type": "code",
   "execution_count": 200,
   "metadata": {},
   "outputs": [
    {
     "data": {
      "text/plain": [
       "{'polaridad': '0.002080853174603177', 'subjetividad': '0.3981464947089947'}"
      ]
     },
     "execution_count": 200,
     "metadata": {},
     "output_type": "execute_result"
    }
   ],
   "source": [
    "sentimientos_hawkins= requests.get(url_sentchat + grupo2).json()\n",
    "sentimientos_hawkins"
   ]
  },
  {
   "cell_type": "markdown",
   "metadata": {},
   "source": [
    "##### User - Un mensaje Random\n",
    "Podemos analizar los sentimientos de un mensaje random de cualquier usuario"
   ]
  },
  {
   "cell_type": "code",
   "execution_count": 209,
   "metadata": {},
   "outputs": [],
   "source": [
    "url_sentmensaje = \"http://localhost:5000/user/random/sentiments/\"\n",
    "hopper =  \"Jim Hopper\""
   ]
  },
  {
   "cell_type": "code",
   "execution_count": 210,
   "metadata": {},
   "outputs": [
    {
     "data": {
      "text/plain": [
       "{'Frase': 'Nada volverá a ser como era antes. No en realidad. Pero mejorará con el tiempo.',\n",
       " 'polaridad': '-0.1',\n",
       " 'subjetividad': '0.2'}"
      ]
     },
     "execution_count": 210,
     "metadata": {},
     "output_type": "execute_result"
    }
   ],
   "source": [
    "sentimientos_mensaje= requests.get(url_sentmensaje + hopper).json()\n",
    "sentimientos_mensaje"
   ]
  },
  {
   "cell_type": "markdown",
   "metadata": {},
   "source": [
    "##### User\n",
    "También podemos analizar los sentimientos de un user por los mensajes que ha enviado."
   ]
  },
  {
   "cell_type": "code",
   "execution_count": 188,
   "metadata": {},
   "outputs": [],
   "source": [
    "url_sentuser = \"http://localhost:5000/user/sentiments/\"\n",
    "dustin =\"Dustin Henderson\""
   ]
  },
  {
   "cell_type": "code",
   "execution_count": 192,
   "metadata": {},
   "outputs": [
    {
     "data": {
      "text/plain": [
       "{'polaridad': '-0.048840161064425756', 'subjetividad': '0.4347514005602241'}"
      ]
     },
     "execution_count": 192,
     "metadata": {},
     "output_type": "execute_result"
    }
   ],
   "source": [
    "sentimientos_dustin= requests.get(url_sentuser + dustin).json()\n",
    "sentimientos_dustin"
   ]
  },
  {
   "cell_type": "markdown",
   "metadata": {},
   "source": [
    "Vemos que Dustin no es una persona tan positiva como parece, por las frases que dice....¿qué le pasará?"
   ]
  },
  {
   "cell_type": "markdown",
   "metadata": {},
   "source": [
    "<img src=\"https://media.giphy.com/media/l3JDIP5O3Nz08HvJS/giphy.gif\">"
   ]
  },
  {
   "cell_type": "markdown",
   "metadata": {},
   "source": [
    "### NLP Sistema de recomendaciones\n",
    "Vamos a recomendar usuarios por lo parecido de sus conversaciones en los chats."
   ]
  },
  {
   "cell_type": "code",
   "execution_count": 219,
   "metadata": {},
   "outputs": [],
   "source": [
    "url_recomendacion = \"http://localhost:5000/recommend/\"\n",
    "once =\"Once\""
   ]
  },
  {
   "cell_type": "code",
   "execution_count": 295,
   "metadata": {},
   "outputs": [
    {
     "data": {
      "text/plain": [
       "'hola'"
      ]
     },
     "execution_count": 295,
     "metadata": {},
     "output_type": "execute_result"
    }
   ],
   "source": [
    "prob= requests.get(url_recomendacion + once).json()\n",
    "prob"
   ]
  },
  {
   "cell_type": "code",
   "execution_count": null,
   "metadata": {},
   "outputs": [],
   "source": []
  },
  {
   "cell_type": "code",
   "execution_count": null,
   "metadata": {},
   "outputs": [],
   "source": []
  },
  {
   "cell_type": "code",
   "execution_count": null,
   "metadata": {},
   "outputs": [],
   "source": []
  },
  {
   "cell_type": "code",
   "execution_count": null,
   "metadata": {},
   "outputs": [],
   "source": []
  },
  {
   "cell_type": "code",
   "execution_count": null,
   "metadata": {},
   "outputs": [],
   "source": []
  },
  {
   "cell_type": "code",
   "execution_count": null,
   "metadata": {},
   "outputs": [],
   "source": []
  }
 ],
 "metadata": {
  "kernelspec": {
   "display_name": "Python 3",
   "language": "python",
   "name": "python3"
  },
  "language_info": {
   "codemirror_mode": {
    "name": "ipython",
    "version": 3
   },
   "file_extension": ".py",
   "mimetype": "text/x-python",
   "name": "python",
   "nbconvert_exporter": "python",
   "pygments_lexer": "ipython3",
   "version": "3.8.1"
  }
 },
 "nbformat": 4,
 "nbformat_minor": 4
}
