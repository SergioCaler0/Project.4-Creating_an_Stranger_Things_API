{
 "cells": [
  {
   "cell_type": "code",
   "execution_count": 1,
   "metadata": {},
   "outputs": [],
   "source": [
    "import requests"
   ]
  },
  {
   "cell_type": "markdown",
   "metadata": {},
   "source": [
    "### Insertar personajes en la base de datos"
   ]
  },
  {
   "cell_type": "markdown",
   "metadata": {},
   "source": [
    "Se pueden insertar users en la db con una lista de diccionarios, o con un diccionario. "
   ]
  },
  {
   "cell_type": "code",
   "execution_count": 49,
   "metadata": {},
   "outputs": [],
   "source": [
    "#borrar los números que los pongo para trabajar\n",
    "\n",
    "personajes = [{\"name\":\"Mike Wheeler\"},\n",
    "              {\"name\":\"Once\"},\n",
    "              {\"name\":\"Billy Hargrove\"},\n",
    "              {\"name\":\"Dustin Henderson\"},\n",
    "              {\"name\":\"Steve Harrington\"},\n",
    "              {\"name\":\"Will\"},\n",
    "              {\"name\":\"Suzie\"},\n",
    "              {\"name\":\"Jonathan\"},\n",
    "              {\"name\":\"Joyce Byers\"},\n",
    "              {\"name\":\"Erica Sinclair\"},\n",
    "              {\"name\":\"Karen Wheeler\"},\n",
    "              {\"name\":\"Max\"},\n",
    "              {\"name\":\"Bob Newby\"},\n",
    "              {\"name\":\"Nancy Wheeler\"},\n",
    "              {\"name\":\"Jim Hopper\"},\n",
    "              {\"name\":\"Dr. Owens\"},\n",
    "              {\"name\":\"Kali\"},\n",
    "              {\"name\":\"Murray Bauman\"},\n",
    "              {\"name\":\"Lucas\"}\n",
    "]"
   ]
  },
  {
   "cell_type": "markdown",
   "metadata": {},
   "source": [
    "Para insertar usuarios en la base de datos hay que hacer una request de la siguiente manera. El sistema checkea si existen ya y les asigna un user_id correlativo. "
   ]
  },
  {
   "cell_type": "code",
   "execution_count": 44,
   "metadata": {},
   "outputs": [],
   "source": [
    "url_user = \"http://localhost:5000/new/user\"\n",
    "for x in personajes:\n",
    "    requests.post(url_user, data=x)"
   ]
  },
  {
   "cell_type": "markdown",
   "metadata": {},
   "source": [
    "Para insertar chats en la base de datos, hay que hacerlo en forma de diccionario. Tiene que tener un nombre de diccionario y los participantes que están dentro. El sistema controlará que los participantes existan y que el nombre del chat no exista anteriormente.\n",
    "Abajo "
   ]
  },
  {
   "cell_type": "code",
   "execution_count": 9,
   "metadata": {},
   "outputs": [],
   "source": [
    "friends = { \"chat_name\": \"friends\",\n",
    "           \"participants\": [\"Mike Wheeler\",\"Dustin Henderson\",\"Will\",\"Lucas\"]\n",
    "}\n",
    "\n",
    "hawkings = {\"chat_name\":\"hawkins\",\n",
    "            \"participants\":['Mike Wheeler','Once','Billy Hargrove','Dustin Henderson','Steve Harrington','Will','Suzie','Jonathan','Joyce Byers','Erica Sinclair','Karen Wheeler','Max','Bob Newby','Nancy Wheeler','Jim Hopper','Dr. Owens','Kali','Murray Bauman','Lucas']   \n",
    "}\n",
    "\n",
    "friendsnew = {\"chat_name\" : \"friends_new\",\n",
    "             \"participants\": [\"Mike Wheeler\",\"Once\",\"Lucas\",\"Dustin Henderson\",\"Steve Harrington\",\"Nancy Wheeler\",\"Will\",\"Suzie\",\"Max\"]\n",
    "}\n",
    "hopper_once = {\"chat_name\":\"hopper_once\", \n",
    "               \"participants\":[\"Once\",\"Jim Hopper\"]}"
   ]
  },
  {
   "cell_type": "code",
   "execution_count": 3,
   "metadata": {},
   "outputs": [],
   "source": [
    "url_chat = \"http://localhost:5000/new/chat\""
   ]
  },
  {
   "cell_type": "code",
   "execution_count": 11,
   "metadata": {},
   "outputs": [
    {
     "data": {
      "text/plain": [
       "<Response [200]>"
      ]
     },
     "execution_count": 11,
     "metadata": {},
     "output_type": "execute_result"
    }
   ],
   "source": [
    "requests.post(url_chat, data=hopper_once)"
   ]
  },
  {
   "cell_type": "code",
   "execution_count": null,
   "metadata": {},
   "outputs": [],
   "source": []
  },
  {
   "cell_type": "code",
   "execution_count": null,
   "metadata": {},
   "outputs": [],
   "source": []
  }
 ],
 "metadata": {
  "kernelspec": {
   "display_name": "Python 3",
   "language": "python",
   "name": "python3"
  },
  "language_info": {
   "codemirror_mode": {
    "name": "ipython",
    "version": 3
   },
   "file_extension": ".py",
   "mimetype": "text/x-python",
   "name": "python",
   "nbconvert_exporter": "python",
   "pygments_lexer": "ipython3",
   "version": "3.8.1"
  }
 },
 "nbformat": 4,
 "nbformat_minor": 4
}
